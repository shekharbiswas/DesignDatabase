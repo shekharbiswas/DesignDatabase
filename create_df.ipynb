{
 "metadata": {
  "language_info": {
   "codemirror_mode": {
    "name": "ipython",
    "version": 3
   },
   "file_extension": ".py",
   "mimetype": "text/x-python",
   "name": "python",
   "nbconvert_exporter": "python",
   "pygments_lexer": "ipython3",
   "version": "3.7.4-final"
  },
  "orig_nbformat": 2,
  "kernelspec": {
   "name": "python37464bitbaseconda9daf389af7b44252854232aba3499adc",
   "display_name": "Python 3.7.4 64-bit ('base': conda)"
  }
 },
 "nbformat": 4,
 "nbformat_minor": 2,
 "cells": [
  {
   "cell_type": "code",
   "execution_count": 106,
   "metadata": {},
   "outputs": [],
   "source": [
    "import numpy as np\n",
    "import pandas as pd"
   ]
  },
  {
   "cell_type": "code",
   "execution_count": 107,
   "metadata": {},
   "outputs": [],
   "source": [
    "s = pd.read_json('search_output.jsonl')"
   ]
  },
  {
   "cell_type": "code",
   "execution_count": 108,
   "metadata": {},
   "outputs": [
    {
     "output_type": "execute_result",
     "data": {
      "text/plain": "                                                title  \\\n0   EVanlak DispalyPort Headless Ghost Display Emu...   \n1   EKWB EK-Quantum Magnitude CPU Water Block, AMD...   \n2   AMD Ryzen 9 3900X 12-core, 24-thread unlocked ...   \n3   Intel Core i5-9600K Desktop Processor 6 Cores ...   \n4   AMD Ryzen 7 2700X Processor with Wraith Prism ...   \n..                                                ...   \n95  Latest_Dell Inspiron 2-in-1 5000 14.0\" HD LED-...   \n96  Acer Chromebook R11 CB5-132T-C67Q Touch Screen...   \n97  2020 Dell Inspiron 3000 15.6-inch HD Touchscre...   \n98  ASROCK H470 Steel Legend Supports 10th Gen Int...   \n99  EVanlak DispalyPort Headless Ghost Display Emu...   \n\n                                                  url              rating  \\\n0   https://www.amazon.com/gp/slredirect/picassoRe...  5.0 out of 5 stars   \n1   https://www.amazon.com/gp/slredirect/picassoRe...  1.0 out of 5 stars   \n2   https://www.amazon.com/AMD-Ryzen-3900X-24-Thre...  4.9 out of 5 stars   \n3   https://www.amazon.com/Intel-i5-9600K-Desktop-...  4.6 out of 5 stars   \n4   https://www.amazon.com/AMD-Ryzen-Processor-Wra...  4.8 out of 5 stars   \n..                                                ...                 ...   \n95  https://www.amazon.com/Latest_Dell-LED-Backlit...  4.1 out of 5 stars   \n96  https://www.amazon.com/Acer-Chromebook-CB5-132...  4.2 out of 5 stars   \n97  https://www.amazon.com/Dell-3000-15-6-inch-Tou...  4.3 out of 5 stars   \n98  https://www.amazon.com/ASROCK-H470-Supports-Pr...                None   \n99  https://www.amazon.com/gp/slredirect/picassoRe...  5.0 out of 5 stars   \n\n   review_count    price  \n0             7   $16.99  \n1             1  $265.95  \n2         2,090  $422.68  \n3         4,431     None  \n4         5,869  $349.00  \n..          ...      ...  \n95           35  $519.00  \n96           32  $400.00  \n97           15  $466.00  \n98         None  $139.99  \n99            7   $16.99  \n\n[100 rows x 5 columns]",
      "text/html": "<div>\n<style scoped>\n    .dataframe tbody tr th:only-of-type {\n        vertical-align: middle;\n    }\n\n    .dataframe tbody tr th {\n        vertical-align: top;\n    }\n\n    .dataframe thead th {\n        text-align: right;\n    }\n</style>\n<table border=\"1\" class=\"dataframe\">\n  <thead>\n    <tr style=\"text-align: right;\">\n      <th></th>\n      <th>title</th>\n      <th>url</th>\n      <th>rating</th>\n      <th>review_count</th>\n      <th>price</th>\n    </tr>\n  </thead>\n  <tbody>\n    <tr>\n      <td>0</td>\n      <td>EVanlak DispalyPort Headless Ghost Display Emu...</td>\n      <td>https://www.amazon.com/gp/slredirect/picassoRe...</td>\n      <td>5.0 out of 5 stars</td>\n      <td>7</td>\n      <td>$16.99</td>\n    </tr>\n    <tr>\n      <td>1</td>\n      <td>EKWB EK-Quantum Magnitude CPU Water Block, AMD...</td>\n      <td>https://www.amazon.com/gp/slredirect/picassoRe...</td>\n      <td>1.0 out of 5 stars</td>\n      <td>1</td>\n      <td>$265.95</td>\n    </tr>\n    <tr>\n      <td>2</td>\n      <td>AMD Ryzen 9 3900X 12-core, 24-thread unlocked ...</td>\n      <td>https://www.amazon.com/AMD-Ryzen-3900X-24-Thre...</td>\n      <td>4.9 out of 5 stars</td>\n      <td>2,090</td>\n      <td>$422.68</td>\n    </tr>\n    <tr>\n      <td>3</td>\n      <td>Intel Core i5-9600K Desktop Processor 6 Cores ...</td>\n      <td>https://www.amazon.com/Intel-i5-9600K-Desktop-...</td>\n      <td>4.6 out of 5 stars</td>\n      <td>4,431</td>\n      <td>None</td>\n    </tr>\n    <tr>\n      <td>4</td>\n      <td>AMD Ryzen 7 2700X Processor with Wraith Prism ...</td>\n      <td>https://www.amazon.com/AMD-Ryzen-Processor-Wra...</td>\n      <td>4.8 out of 5 stars</td>\n      <td>5,869</td>\n      <td>$349.00</td>\n    </tr>\n    <tr>\n      <td>...</td>\n      <td>...</td>\n      <td>...</td>\n      <td>...</td>\n      <td>...</td>\n      <td>...</td>\n    </tr>\n    <tr>\n      <td>95</td>\n      <td>Latest_Dell Inspiron 2-in-1 5000 14.0\" HD LED-...</td>\n      <td>https://www.amazon.com/Latest_Dell-LED-Backlit...</td>\n      <td>4.1 out of 5 stars</td>\n      <td>35</td>\n      <td>$519.00</td>\n    </tr>\n    <tr>\n      <td>96</td>\n      <td>Acer Chromebook R11 CB5-132T-C67Q Touch Screen...</td>\n      <td>https://www.amazon.com/Acer-Chromebook-CB5-132...</td>\n      <td>4.2 out of 5 stars</td>\n      <td>32</td>\n      <td>$400.00</td>\n    </tr>\n    <tr>\n      <td>97</td>\n      <td>2020 Dell Inspiron 3000 15.6-inch HD Touchscre...</td>\n      <td>https://www.amazon.com/Dell-3000-15-6-inch-Tou...</td>\n      <td>4.3 out of 5 stars</td>\n      <td>15</td>\n      <td>$466.00</td>\n    </tr>\n    <tr>\n      <td>98</td>\n      <td>ASROCK H470 Steel Legend Supports 10th Gen Int...</td>\n      <td>https://www.amazon.com/ASROCK-H470-Supports-Pr...</td>\n      <td>None</td>\n      <td>None</td>\n      <td>$139.99</td>\n    </tr>\n    <tr>\n      <td>99</td>\n      <td>EVanlak DispalyPort Headless Ghost Display Emu...</td>\n      <td>https://www.amazon.com/gp/slredirect/picassoRe...</td>\n      <td>5.0 out of 5 stars</td>\n      <td>7</td>\n      <td>$16.99</td>\n    </tr>\n  </tbody>\n</table>\n<p>100 rows × 5 columns</p>\n</div>"
     },
     "metadata": {},
     "execution_count": 108
    }
   ],
   "source": [
    "s"
   ]
  },
  {
   "cell_type": "code",
   "execution_count": 109,
   "metadata": {},
   "outputs": [],
   "source": [
    "p = pd.read_json('product_output.jsonl')\n",
    "\n"
   ]
  },
  {
   "cell_type": "code",
   "execution_count": 110,
   "metadata": {},
   "outputs": [
    {
     "output_type": "execute_result",
     "data": {
      "text/plain": "                                                 name  \\\n0   EVanlak DispalyPort Headless Ghost Display Emu...   \n1   EKWB EK-Quantum Magnitude CPU Water Block, AMD...   \n2   AMD Ryzen 9 3900X 12-core, 24-thread unlocked ...   \n3   Intel Core i5-9600K Desktop Processor 6 Cores ...   \n4   AMD Ryzen 7 2700X Processor with Wraith Prism ...   \n..                                                ...   \n95  Latest_Dell Inspiron 2-in-1 5000 14.0\" HD LED-...   \n96  Acer Chromebook R11 CB5-132T-C67Q Touch Screen...   \n97  2020 Dell Inspiron 3000 15.6-inch HD Touchscre...   \n98  ASROCK H470 Steel Legend Supports 10th Gen Int...   \n99  EVanlak DispalyPort Headless Ghost Display Emu...   \n\n                                    product_tech_spec  \\\n0                                                None   \n1                                                None   \n2   [{'info': 'Brand', 'value': 'AMD'}, {'info': '...   \n3   [{'info': 'Memory Speed', 'value': '3700 MHz'}...   \n4   [{'info': 'Brand', 'value': 'AMD'}, {'info': '...   \n..                                                ...   \n95  [{'info': 'Standing screen display size', 'val...   \n96  [{'info': 'Standing screen display size', 'val...   \n97  [{'info': 'Standing screen display size', 'val...   \n98    [{'info': 'Memory Speed', 'value': '2933 MHz'}]   \n99                                               None   \n\n                                    product_addl_info  \\\n0   [{'info': 'Product Dimensions', 'value': '13.3...   \n1   [{'info': 'Package Dimensions', 'value': '7 x ...   \n2   [{'info': 'ASIN', 'value': 'B07SXMZLP9'}, {'in...   \n3   [{'info': 'ASIN', 'value': 'B07HHLX1R8'}, {'in...   \n4   [{'info': 'ASIN', 'value': 'B07B428M7F'}, {'in...   \n..                                                ...   \n95  [{'info': 'ASIN', 'value': 'B07NJJ9749'}, {'in...   \n96  [{'info': 'ASIN', 'value': 'B078Z3TN7X'}, {'in...   \n97  [{'info': 'ASIN', 'value': 'B088K23635'}, {'in...   \n98  [{'info': 'ASIN', 'value': 'B088ZRQ55G'}, {'in...   \n99  [{'info': 'Product Dimensions', 'value': '13.3...   \n\n                                      seller  \\\n0                              EVanlak stroe   \n1                                  TITAN RIG   \n2                                       None   \n3                                       None   \n4                                  DealsPro1   \n..                                       ...   \n95  Complete Tech  (We record Serial Number)   \n96                 Acute Tek (We Record S/N)   \n97                              KeepClimbing   \n98                                      None   \n99                             EVanlak stroe   \n\n                                          seller_link  \\\n0   https://www.amazon.com/gp/help/seller/at-a-gla...   \n1   https://www.amazon.com/gp/help/seller/at-a-gla...   \n2                                                None   \n3                                                None   \n4   https://www.amazon.com/gp/help/seller/at-a-gla...   \n..                                                ...   \n95  https://www.amazon.com/gp/help/seller/at-a-gla...   \n96  https://www.amazon.com/gp/help/seller/at-a-gla...   \n97  https://www.amazon.com/gp/help/seller/at-a-gla...   \n98                                               None   \n99  https://www.amazon.com/gp/help/seller/at-a-gla...   \n\n                                          freq_bought  \\\n0                                                None   \n1                                                None   \n2   Corsair Vengeance RGB Pro 32GB (2x16GB) DDR4 3...   \n3                                                None   \n4   WD Blue 3D NAND 500GB Internal PC SSD - SATA I...   \n..                                                ...   \n95                                               None   \n96                                               None   \n97  AmazonBasics 15.6-Inch Laptop Computer and Tab...   \n98                                               None   \n99                                               None   \n\n                                     freq_bought_link  \\\n0                                                None   \n1                                                None   \n2   /Corsair-CMW32GX4M2C3200C16-Vengeance-PC4-2560...   \n3                                                None   \n4   https://www.amazon.com/Blue-NAND-500GB-SSD-WDS...   \n..                                                ...   \n95                                               None   \n96                                               None   \n97  https://www.amazon.com/AmazonBasics-15-6-Inch-...   \n98                                               None   \n99                                               None   \n\n                                  link_to_all_reviews  \n0   /EVanlak-DispalyPort-Headless-Emulator-3840x21...  \n1   /EKWB-EK-Quantum-Magnitude-Water-Nickel/produc...  \n2   /Ryzen-3900X-Procesador-escritorio-desbloquead...  \n3   /Intel-i5-9600K-Desktop-Processor-Unlocked/pro...  \n4   /AMD-Ryzen-Processor-Wraith-Cooler/product-rev...  \n..                                                ...  \n95  /Latest_Dell-LED-Backlit-Touchscreen-Performan...  \n96  /Acer-Chromebook-CB5-132T-C67Q-Processor-Multi...  \n97  /Dell-3000-15-6-inch-Touchscreen-i3-1005G1/pro...  \n98                                               None  \n99  /EVanlak-DispalyPort-Headless-Emulator-3840x21...  \n\n[100 rows x 8 columns]",
      "text/html": "<div>\n<style scoped>\n    .dataframe tbody tr th:only-of-type {\n        vertical-align: middle;\n    }\n\n    .dataframe tbody tr th {\n        vertical-align: top;\n    }\n\n    .dataframe thead th {\n        text-align: right;\n    }\n</style>\n<table border=\"1\" class=\"dataframe\">\n  <thead>\n    <tr style=\"text-align: right;\">\n      <th></th>\n      <th>name</th>\n      <th>product_tech_spec</th>\n      <th>product_addl_info</th>\n      <th>seller</th>\n      <th>seller_link</th>\n      <th>freq_bought</th>\n      <th>freq_bought_link</th>\n      <th>link_to_all_reviews</th>\n    </tr>\n  </thead>\n  <tbody>\n    <tr>\n      <td>0</td>\n      <td>EVanlak DispalyPort Headless Ghost Display Emu...</td>\n      <td>None</td>\n      <td>[{'info': 'Product Dimensions', 'value': '13.3...</td>\n      <td>EVanlak stroe</td>\n      <td>https://www.amazon.com/gp/help/seller/at-a-gla...</td>\n      <td>None</td>\n      <td>None</td>\n      <td>/EVanlak-DispalyPort-Headless-Emulator-3840x21...</td>\n    </tr>\n    <tr>\n      <td>1</td>\n      <td>EKWB EK-Quantum Magnitude CPU Water Block, AMD...</td>\n      <td>None</td>\n      <td>[{'info': 'Package Dimensions', 'value': '7 x ...</td>\n      <td>TITAN RIG</td>\n      <td>https://www.amazon.com/gp/help/seller/at-a-gla...</td>\n      <td>None</td>\n      <td>None</td>\n      <td>/EKWB-EK-Quantum-Magnitude-Water-Nickel/produc...</td>\n    </tr>\n    <tr>\n      <td>2</td>\n      <td>AMD Ryzen 9 3900X 12-core, 24-thread unlocked ...</td>\n      <td>[{'info': 'Brand', 'value': 'AMD'}, {'info': '...</td>\n      <td>[{'info': 'ASIN', 'value': 'B07SXMZLP9'}, {'in...</td>\n      <td>None</td>\n      <td>None</td>\n      <td>Corsair Vengeance RGB Pro 32GB (2x16GB) DDR4 3...</td>\n      <td>/Corsair-CMW32GX4M2C3200C16-Vengeance-PC4-2560...</td>\n      <td>/Ryzen-3900X-Procesador-escritorio-desbloquead...</td>\n    </tr>\n    <tr>\n      <td>3</td>\n      <td>Intel Core i5-9600K Desktop Processor 6 Cores ...</td>\n      <td>[{'info': 'Memory Speed', 'value': '3700 MHz'}...</td>\n      <td>[{'info': 'ASIN', 'value': 'B07HHLX1R8'}, {'in...</td>\n      <td>None</td>\n      <td>None</td>\n      <td>None</td>\n      <td>None</td>\n      <td>/Intel-i5-9600K-Desktop-Processor-Unlocked/pro...</td>\n    </tr>\n    <tr>\n      <td>4</td>\n      <td>AMD Ryzen 7 2700X Processor with Wraith Prism ...</td>\n      <td>[{'info': 'Brand', 'value': 'AMD'}, {'info': '...</td>\n      <td>[{'info': 'ASIN', 'value': 'B07B428M7F'}, {'in...</td>\n      <td>DealsPro1</td>\n      <td>https://www.amazon.com/gp/help/seller/at-a-gla...</td>\n      <td>WD Blue 3D NAND 500GB Internal PC SSD - SATA I...</td>\n      <td>https://www.amazon.com/Blue-NAND-500GB-SSD-WDS...</td>\n      <td>/AMD-Ryzen-Processor-Wraith-Cooler/product-rev...</td>\n    </tr>\n    <tr>\n      <td>...</td>\n      <td>...</td>\n      <td>...</td>\n      <td>...</td>\n      <td>...</td>\n      <td>...</td>\n      <td>...</td>\n      <td>...</td>\n      <td>...</td>\n    </tr>\n    <tr>\n      <td>95</td>\n      <td>Latest_Dell Inspiron 2-in-1 5000 14.0\" HD LED-...</td>\n      <td>[{'info': 'Standing screen display size', 'val...</td>\n      <td>[{'info': 'ASIN', 'value': 'B07NJJ9749'}, {'in...</td>\n      <td>Complete Tech  (We record Serial Number)</td>\n      <td>https://www.amazon.com/gp/help/seller/at-a-gla...</td>\n      <td>None</td>\n      <td>None</td>\n      <td>/Latest_Dell-LED-Backlit-Touchscreen-Performan...</td>\n    </tr>\n    <tr>\n      <td>96</td>\n      <td>Acer Chromebook R11 CB5-132T-C67Q Touch Screen...</td>\n      <td>[{'info': 'Standing screen display size', 'val...</td>\n      <td>[{'info': 'ASIN', 'value': 'B078Z3TN7X'}, {'in...</td>\n      <td>Acute Tek (We Record S/N)</td>\n      <td>https://www.amazon.com/gp/help/seller/at-a-gla...</td>\n      <td>None</td>\n      <td>None</td>\n      <td>/Acer-Chromebook-CB5-132T-C67Q-Processor-Multi...</td>\n    </tr>\n    <tr>\n      <td>97</td>\n      <td>2020 Dell Inspiron 3000 15.6-inch HD Touchscre...</td>\n      <td>[{'info': 'Standing screen display size', 'val...</td>\n      <td>[{'info': 'ASIN', 'value': 'B088K23635'}, {'in...</td>\n      <td>KeepClimbing</td>\n      <td>https://www.amazon.com/gp/help/seller/at-a-gla...</td>\n      <td>AmazonBasics 15.6-Inch Laptop Computer and Tab...</td>\n      <td>https://www.amazon.com/AmazonBasics-15-6-Inch-...</td>\n      <td>/Dell-3000-15-6-inch-Touchscreen-i3-1005G1/pro...</td>\n    </tr>\n    <tr>\n      <td>98</td>\n      <td>ASROCK H470 Steel Legend Supports 10th Gen Int...</td>\n      <td>[{'info': 'Memory Speed', 'value': '2933 MHz'}]</td>\n      <td>[{'info': 'ASIN', 'value': 'B088ZRQ55G'}, {'in...</td>\n      <td>None</td>\n      <td>None</td>\n      <td>None</td>\n      <td>None</td>\n      <td>None</td>\n    </tr>\n    <tr>\n      <td>99</td>\n      <td>EVanlak DispalyPort Headless Ghost Display Emu...</td>\n      <td>None</td>\n      <td>[{'info': 'Product Dimensions', 'value': '13.3...</td>\n      <td>EVanlak stroe</td>\n      <td>https://www.amazon.com/gp/help/seller/at-a-gla...</td>\n      <td>None</td>\n      <td>None</td>\n      <td>/EVanlak-DispalyPort-Headless-Emulator-3840x21...</td>\n    </tr>\n  </tbody>\n</table>\n<p>100 rows × 8 columns</p>\n</div>"
     },
     "metadata": {},
     "execution_count": 110
    }
   ],
   "source": [
    "p"
   ]
  },
  {
   "cell_type": "code",
   "execution_count": 111,
   "metadata": {},
   "outputs": [],
   "source": [
    "#  have a set of columns which cover all the columns of different products\n",
    "l = []\n",
    "for i in range(p.shape[0]):\n",
    "    try:\n",
    "        cols = [d['info'] for d in p.product_addl_info[i]]\n",
    "        l = list(set().union(cols,l))\n",
    "    except:\n",
    "        continue\n",
    "    #when cols is NA\n",
    "product_addl_info_cols = l"
   ]
  },
  {
   "cell_type": "code",
   "execution_count": 112,
   "metadata": {},
   "outputs": [],
   "source": [
    "l = []\n",
    "for i in range(p.shape[0]):\n",
    "    try:\n",
    "        cols = [d['info'] for d in p.product_tech_spec[i]]\n",
    "        l = list(set().union(cols,l))\n",
    "    except:\n",
    "        continue\n",
    "    #when cols is NA\n",
    "product_tech_spec_cols = l"
   ]
  },
  {
   "cell_type": "code",
   "execution_count": 113,
   "metadata": {},
   "outputs": [
    {
     "output_type": "execute_result",
     "data": {
      "text/plain": "['Manufacturer',\n 'Best Sellers Rank',\n 'ASIN',\n 'Product Dimensions',\n 'Package Dimensions',\n 'Item Weight',\n 'Date First Available',\n 'Is Discontinued By Manufacturer',\n 'Customer Reviews',\n 'Item model number',\n 'Batteries']"
     },
     "metadata": {},
     "execution_count": 113
    }
   ],
   "source": [
    "product_addl_info_cols"
   ]
  },
  {
   "cell_type": "code",
   "execution_count": 114,
   "metadata": {},
   "outputs": [
    {
     "output_type": "execute_result",
     "data": {
      "text/plain": "['Card Description',\n 'Voltage',\n 'Series',\n 'National Stock Number',\n 'Chipset Brand',\n 'Package Dimensions',\n 'Date First Available',\n 'Batteries Required?',\n 'Wireless Type',\n 'Standing screen display size',\n 'Max Screen Resolution',\n 'Part Number',\n 'Item Package Quantity',\n 'Color',\n 'Brand',\n 'Number of USB 3.0 Ports',\n 'Memory Speed',\n 'Graphics Coprocessor',\n 'Batteries Included?',\n 'Computer Memory Type',\n 'Item Weight',\n 'Product Dimensions',\n 'Item model number',\n 'Screen Resolution',\n 'Number of USB 2.0 Ports',\n 'Average Battery Life (in hours)',\n 'Department',\n 'ASIN',\n 'Graphics Card Ram Size',\n 'Item Dimensions  L x W x H',\n 'Is Discontinued By Manufacturer',\n 'Processor Brand',\n 'Processor Count',\n 'Manufacturer']"
     },
     "metadata": {},
     "execution_count": 114
    }
   ],
   "source": [
    "product_tech_spec_cols"
   ]
  },
  {
   "cell_type": "code",
   "execution_count": 115,
   "metadata": {},
   "outputs": [
    {
     "output_type": "execute_result",
     "data": {
      "text/plain": "  Card Description Voltage Series National Stock Number Chipset Brand  \\\n0                                                                       \n\n  Package Dimensions Date First Available Batteries Required? Wireless Type  \\\n0                                                                             \n\n  Standing screen display size  ... Number of USB 2.0 Ports  \\\n0                               ...                           \n\n  Average Battery Life (in hours) Department ASIN Graphics Card Ram Size  \\\n0                                                                          \n\n  Item Dimensions  L x W x H Is Discontinued By Manufacturer Processor Brand  \\\n0                                                                              \n\n  Processor Count Manufacturer  \n0                               \n\n[1 rows x 34 columns]",
      "text/html": "<div>\n<style scoped>\n    .dataframe tbody tr th:only-of-type {\n        vertical-align: middle;\n    }\n\n    .dataframe tbody tr th {\n        vertical-align: top;\n    }\n\n    .dataframe thead th {\n        text-align: right;\n    }\n</style>\n<table border=\"1\" class=\"dataframe\">\n  <thead>\n    <tr style=\"text-align: right;\">\n      <th></th>\n      <th>Card Description</th>\n      <th>Voltage</th>\n      <th>Series</th>\n      <th>National Stock Number</th>\n      <th>Chipset Brand</th>\n      <th>Package Dimensions</th>\n      <th>Date First Available</th>\n      <th>Batteries Required?</th>\n      <th>Wireless Type</th>\n      <th>Standing screen display size</th>\n      <th>...</th>\n      <th>Number of USB 2.0 Ports</th>\n      <th>Average Battery Life (in hours)</th>\n      <th>Department</th>\n      <th>ASIN</th>\n      <th>Graphics Card Ram Size</th>\n      <th>Item Dimensions  L x W x H</th>\n      <th>Is Discontinued By Manufacturer</th>\n      <th>Processor Brand</th>\n      <th>Processor Count</th>\n      <th>Manufacturer</th>\n    </tr>\n  </thead>\n  <tbody>\n    <tr>\n      <td>0</td>\n      <td></td>\n      <td></td>\n      <td></td>\n      <td></td>\n      <td></td>\n      <td></td>\n      <td></td>\n      <td></td>\n      <td></td>\n      <td></td>\n      <td>...</td>\n      <td></td>\n      <td></td>\n      <td></td>\n      <td></td>\n      <td></td>\n      <td></td>\n      <td></td>\n      <td></td>\n      <td></td>\n      <td></td>\n    </tr>\n  </tbody>\n</table>\n<p>1 rows × 34 columns</p>\n</div>"
     },
     "metadata": {},
     "execution_count": 115
    }
   ],
   "source": [
    "pt= pd.DataFrame([['']*len(product_tech_spec_cols)], columns=product_tech_spec_cols)\n",
    "pt"
   ]
  },
  {
   "cell_type": "code",
   "execution_count": 116,
   "metadata": {},
   "outputs": [],
   "source": [
    "for i in range(p.shape[0]):\n",
    "    try:\n",
    "       cols = [d['info'] for d in p.product_tech_spec[i]]\n",
    "       values = [d['value'] for d in p.product_tech_spec[i]]\n",
    "       for item in cols:\n",
    "           pt.loc[i,item] = values.pop(0)\n",
    "\n",
    "\n",
    "    except:\n",
    "        pt.loc[i,] = ''\n",
    "        continue\n",
    "\n"
   ]
  },
  {
   "cell_type": "code",
   "execution_count": 117,
   "metadata": {},
   "outputs": [],
   "source": [
    "#'ASIN' does have lots of empty values in pt, delete that column\n",
    "\n",
    "pt.drop(['ASIN'], axis= 1, inplace= True)"
   ]
  },
  {
   "cell_type": "code",
   "execution_count": 118,
   "metadata": {},
   "outputs": [
    {
     "output_type": "execute_result",
     "data": {
      "text/plain": "0        \n1        \n2     AMD\n3     NaN\n4     AMD\n     ... \n95    NaN\n96    NaN\n97    NaN\n98    NaN\n99       \nName: Processor Brand, Length: 100, dtype: object"
     },
     "metadata": {},
     "execution_count": 118
    }
   ],
   "source": [
    "pt['Processor Brand']"
   ]
  },
  {
   "cell_type": "code",
   "execution_count": 119,
   "metadata": {},
   "outputs": [
    {
     "output_type": "execute_result",
     "data": {
      "text/plain": "  Manufacturer Best Sellers Rank ASIN Product Dimensions Package Dimensions  \\\n0                                                                             \n\n  Item Weight Date First Available Is Discontinued By Manufacturer  \\\n0                                                                    \n\n  Customer Reviews Item model number Batteries  \n0                                               ",
      "text/html": "<div>\n<style scoped>\n    .dataframe tbody tr th:only-of-type {\n        vertical-align: middle;\n    }\n\n    .dataframe tbody tr th {\n        vertical-align: top;\n    }\n\n    .dataframe thead th {\n        text-align: right;\n    }\n</style>\n<table border=\"1\" class=\"dataframe\">\n  <thead>\n    <tr style=\"text-align: right;\">\n      <th></th>\n      <th>Manufacturer</th>\n      <th>Best Sellers Rank</th>\n      <th>ASIN</th>\n      <th>Product Dimensions</th>\n      <th>Package Dimensions</th>\n      <th>Item Weight</th>\n      <th>Date First Available</th>\n      <th>Is Discontinued By Manufacturer</th>\n      <th>Customer Reviews</th>\n      <th>Item model number</th>\n      <th>Batteries</th>\n    </tr>\n  </thead>\n  <tbody>\n    <tr>\n      <td>0</td>\n      <td></td>\n      <td></td>\n      <td></td>\n      <td></td>\n      <td></td>\n      <td></td>\n      <td></td>\n      <td></td>\n      <td></td>\n      <td></td>\n      <td></td>\n    </tr>\n  </tbody>\n</table>\n</div>"
     },
     "metadata": {},
     "execution_count": 119
    }
   ],
   "source": [
    "pa= pd.DataFrame([['']*len(product_addl_info_cols)], columns=product_addl_info_cols)\n",
    "pa"
   ]
  },
  {
   "cell_type": "code",
   "execution_count": 120,
   "metadata": {},
   "outputs": [
    {
     "output_type": "execute_result",
     "data": {
      "text/plain": "   Manufacturer                                  Best Sellers Rank  \\\n0       EVanlak                    #850 in Computer Graphics Cards   \n1          EKWB                    #3,135 in Water Cooling Systems   \n2           NaN                      #4 in Computer CPU Processors   \n3           NaN                     #10 in Computer CPU Processors   \n4           NaN                     #16 in Computer CPU Processors   \n..          ...                                                ...   \n95          NaN  #2,177 in Computers & Accessories ( See Top 10...   \n96          NaN  #8,547 in Computers & Accessories ( See Top 10...   \n97          NaN  #282 in Computers & Accessories ( See Top 100 ...   \n98          NaN                      #483 in Computer Motherboards   \n99      EVanlak                    #850 in Computer Graphics Cards   \n\n          ASIN        Product Dimensions      Package Dimensions  \\\n0   B07YLQZXKY  13.33 x 0.7 x 0.2 inches                           \n1   B085NBFXFT                       NaN  7 x 5.25 x 3.75 inches   \n2   B07SXMZLP9                       NaN                     NaN   \n3   B07HHLX1R8                       NaN                     NaN   \n4   B07B428M7F                       NaN                     NaN   \n..         ...                       ...                     ...   \n95  B07NJJ9749                       NaN                     NaN   \n96  B078Z3TN7X                       NaN                     NaN   \n97  B088K23635                       NaN                     NaN   \n98  B088ZRQ55G                       NaN                     NaN   \n99  B07YLQZXKY  13.33 x 0.7 x 0.2 inches                     NaN   \n\n     Item Weight Date First Available Is Discontinued By Manufacturer  \\\n0   0.352 ounces      October 1, 2019                                   \n1     1.6 pounds        March 9, 2020                             NaN   \n2            NaN         July 1, 2019                             NaN   \n3            NaN   September 19, 2018                             NaN   \n4            NaN       April 13, 2018                             NaN   \n..           ...                  ...                             ...   \n95           NaN     February 8, 2019                             NaN   \n96           NaN     January 12, 2018                             NaN   \n97           NaN         May 13, 2020                             NaN   \n98           NaN         May 26, 2020                             NaN   \n99  0.352 ounces      October 1, 2019                             NaN   \n\n                                     Customer Reviews Item model number  \\\n0   /*\\n* Fix for UDP-1061. Average customer revie...                     \n1   /*\\n* Fix for UDP-1061. Average customer revie...     3831109819272   \n2   /*\\n* Fix for UDP-1061. Average customer revie...               NaN   \n3   /*\\n* Fix for UDP-1061. Average customer revie...               NaN   \n4   /*\\n* Fix for UDP-1061. Average customer revie...               NaN   \n..                                                ...               ...   \n95  /*\\n* Fix for UDP-1061. Average customer revie...               NaN   \n96  /*\\n* Fix for UDP-1061. Average customer revie...               NaN   \n97  /*\\n* Fix for UDP-1061. Average customer revie...               NaN   \n98                                                NaN               NaN   \n99  /*\\n* Fix for UDP-1061. Average customer revie...               NaN   \n\n   Batteries  \n0             \n1        NaN  \n2        NaN  \n3        NaN  \n4        NaN  \n..       ...  \n95       NaN  \n96       NaN  \n97       NaN  \n98       NaN  \n99       NaN  \n\n[100 rows x 11 columns]",
      "text/html": "<div>\n<style scoped>\n    .dataframe tbody tr th:only-of-type {\n        vertical-align: middle;\n    }\n\n    .dataframe tbody tr th {\n        vertical-align: top;\n    }\n\n    .dataframe thead th {\n        text-align: right;\n    }\n</style>\n<table border=\"1\" class=\"dataframe\">\n  <thead>\n    <tr style=\"text-align: right;\">\n      <th></th>\n      <th>Manufacturer</th>\n      <th>Best Sellers Rank</th>\n      <th>ASIN</th>\n      <th>Product Dimensions</th>\n      <th>Package Dimensions</th>\n      <th>Item Weight</th>\n      <th>Date First Available</th>\n      <th>Is Discontinued By Manufacturer</th>\n      <th>Customer Reviews</th>\n      <th>Item model number</th>\n      <th>Batteries</th>\n    </tr>\n  </thead>\n  <tbody>\n    <tr>\n      <td>0</td>\n      <td>EVanlak</td>\n      <td>#850 in Computer Graphics Cards</td>\n      <td>B07YLQZXKY</td>\n      <td>13.33 x 0.7 x 0.2 inches</td>\n      <td></td>\n      <td>0.352 ounces</td>\n      <td>October 1, 2019</td>\n      <td></td>\n      <td>/*\\n* Fix for UDP-1061. Average customer revie...</td>\n      <td></td>\n      <td></td>\n    </tr>\n    <tr>\n      <td>1</td>\n      <td>EKWB</td>\n      <td>#3,135 in Water Cooling Systems</td>\n      <td>B085NBFXFT</td>\n      <td>NaN</td>\n      <td>7 x 5.25 x 3.75 inches</td>\n      <td>1.6 pounds</td>\n      <td>March 9, 2020</td>\n      <td>NaN</td>\n      <td>/*\\n* Fix for UDP-1061. Average customer revie...</td>\n      <td>3831109819272</td>\n      <td>NaN</td>\n    </tr>\n    <tr>\n      <td>2</td>\n      <td>NaN</td>\n      <td>#4 in Computer CPU Processors</td>\n      <td>B07SXMZLP9</td>\n      <td>NaN</td>\n      <td>NaN</td>\n      <td>NaN</td>\n      <td>July 1, 2019</td>\n      <td>NaN</td>\n      <td>/*\\n* Fix for UDP-1061. Average customer revie...</td>\n      <td>NaN</td>\n      <td>NaN</td>\n    </tr>\n    <tr>\n      <td>3</td>\n      <td>NaN</td>\n      <td>#10 in Computer CPU Processors</td>\n      <td>B07HHLX1R8</td>\n      <td>NaN</td>\n      <td>NaN</td>\n      <td>NaN</td>\n      <td>September 19, 2018</td>\n      <td>NaN</td>\n      <td>/*\\n* Fix for UDP-1061. Average customer revie...</td>\n      <td>NaN</td>\n      <td>NaN</td>\n    </tr>\n    <tr>\n      <td>4</td>\n      <td>NaN</td>\n      <td>#16 in Computer CPU Processors</td>\n      <td>B07B428M7F</td>\n      <td>NaN</td>\n      <td>NaN</td>\n      <td>NaN</td>\n      <td>April 13, 2018</td>\n      <td>NaN</td>\n      <td>/*\\n* Fix for UDP-1061. Average customer revie...</td>\n      <td>NaN</td>\n      <td>NaN</td>\n    </tr>\n    <tr>\n      <td>...</td>\n      <td>...</td>\n      <td>...</td>\n      <td>...</td>\n      <td>...</td>\n      <td>...</td>\n      <td>...</td>\n      <td>...</td>\n      <td>...</td>\n      <td>...</td>\n      <td>...</td>\n      <td>...</td>\n    </tr>\n    <tr>\n      <td>95</td>\n      <td>NaN</td>\n      <td>#2,177 in Computers &amp; Accessories ( See Top 10...</td>\n      <td>B07NJJ9749</td>\n      <td>NaN</td>\n      <td>NaN</td>\n      <td>NaN</td>\n      <td>February 8, 2019</td>\n      <td>NaN</td>\n      <td>/*\\n* Fix for UDP-1061. Average customer revie...</td>\n      <td>NaN</td>\n      <td>NaN</td>\n    </tr>\n    <tr>\n      <td>96</td>\n      <td>NaN</td>\n      <td>#8,547 in Computers &amp; Accessories ( See Top 10...</td>\n      <td>B078Z3TN7X</td>\n      <td>NaN</td>\n      <td>NaN</td>\n      <td>NaN</td>\n      <td>January 12, 2018</td>\n      <td>NaN</td>\n      <td>/*\\n* Fix for UDP-1061. Average customer revie...</td>\n      <td>NaN</td>\n      <td>NaN</td>\n    </tr>\n    <tr>\n      <td>97</td>\n      <td>NaN</td>\n      <td>#282 in Computers &amp; Accessories ( See Top 100 ...</td>\n      <td>B088K23635</td>\n      <td>NaN</td>\n      <td>NaN</td>\n      <td>NaN</td>\n      <td>May 13, 2020</td>\n      <td>NaN</td>\n      <td>/*\\n* Fix for UDP-1061. Average customer revie...</td>\n      <td>NaN</td>\n      <td>NaN</td>\n    </tr>\n    <tr>\n      <td>98</td>\n      <td>NaN</td>\n      <td>#483 in Computer Motherboards</td>\n      <td>B088ZRQ55G</td>\n      <td>NaN</td>\n      <td>NaN</td>\n      <td>NaN</td>\n      <td>May 26, 2020</td>\n      <td>NaN</td>\n      <td>NaN</td>\n      <td>NaN</td>\n      <td>NaN</td>\n    </tr>\n    <tr>\n      <td>99</td>\n      <td>EVanlak</td>\n      <td>#850 in Computer Graphics Cards</td>\n      <td>B07YLQZXKY</td>\n      <td>13.33 x 0.7 x 0.2 inches</td>\n      <td>NaN</td>\n      <td>0.352 ounces</td>\n      <td>October 1, 2019</td>\n      <td>NaN</td>\n      <td>/*\\n* Fix for UDP-1061. Average customer revie...</td>\n      <td>NaN</td>\n      <td>NaN</td>\n    </tr>\n  </tbody>\n</table>\n<p>100 rows × 11 columns</p>\n</div>"
     },
     "metadata": {},
     "execution_count": 120
    }
   ],
   "source": [
    "for i in range(p.shape[0]):\n",
    "    try:\n",
    "       cols = [d['info'] for d in p.product_addl_info[i]]\n",
    "       values = [d['value'] for d in p.product_addl_info[i]]\n",
    "       for item in cols:\n",
    "           pa.loc[i,item] = values.pop(0)\n",
    "\n",
    "\n",
    "    except:\n",
    "        pa.loc[i,] = ''\n",
    "        continue\n",
    "pa"
   ]
  },
  {
   "cell_type": "code",
   "execution_count": 121,
   "metadata": {},
   "outputs": [],
   "source": [
    "p.drop(columns = ['product_tech_spec','product_addl_info' ], inplace = True)"
   ]
  },
  {
   "cell_type": "code",
   "execution_count": 122,
   "metadata": {},
   "outputs": [],
   "source": [
    "final = pd.concat([p, pa,pt], axis = 1)"
   ]
  },
  {
   "cell_type": "code",
   "execution_count": 123,
   "metadata": {},
   "outputs": [
    {
     "output_type": "execute_result",
     "data": {
      "text/plain": "Index(['name', 'seller', 'seller_link', 'freq_bought', 'freq_bought_link',\n       'link_to_all_reviews', 'Manufacturer', 'Best Sellers Rank', 'ASIN',\n       'Product Dimensions', 'Package Dimensions', 'Item Weight',\n       'Date First Available', 'Is Discontinued By Manufacturer',\n       'Customer Reviews', 'Item model number', 'Batteries',\n       'Card Description', 'Voltage', 'Series', 'National Stock Number',\n       'Chipset Brand', 'Package Dimensions', 'Date First Available',\n       'Batteries Required?', 'Wireless Type', 'Standing screen display size',\n       'Max Screen Resolution', 'Part Number', 'Item Package Quantity',\n       'Color', 'Brand', 'Number of USB 3.0 Ports', 'Memory Speed',\n       'Graphics Coprocessor', 'Batteries Included?', 'Computer Memory Type',\n       'Item Weight', 'Product Dimensions', 'Item model number',\n       'Screen Resolution', 'Number of USB 2.0 Ports',\n       'Average Battery Life (in hours)', 'Department',\n       'Graphics Card Ram Size', 'Item Dimensions  L x W x H',\n       'Is Discontinued By Manufacturer', 'Processor Brand', 'Processor Count',\n       'Manufacturer'],\n      dtype='object')"
     },
     "metadata": {},
     "execution_count": 123
    }
   ],
   "source": [
    "final.columns"
   ]
  },
  {
   "cell_type": "code",
   "execution_count": 124,
   "metadata": {},
   "outputs": [
    {
     "output_type": "execute_result",
     "data": {
      "text/plain": "                                                name         seller  \\\n0  EVanlak DispalyPort Headless Ghost Display Emu...  EVanlak stroe   \n1  EKWB EK-Quantum Magnitude CPU Water Block, AMD...      TITAN RIG   \n\n                                         seller_link freq_bought  \\\n0  https://www.amazon.com/gp/help/seller/at-a-gla...        None   \n1  https://www.amazon.com/gp/help/seller/at-a-gla...        None   \n\n  freq_bought_link                                link_to_all_reviews  \\\n0             None  /EVanlak-DispalyPort-Headless-Emulator-3840x21...   \n1             None  /EKWB-EK-Quantum-Magnitude-Water-Nickel/produc...   \n\n  Manufacturer                Best Sellers Rank        ASIN  \\\n0      EVanlak  #850 in Computer Graphics Cards  B07YLQZXKY   \n1         EKWB  #3,135 in Water Cooling Systems  B085NBFXFT   \n\n         Product Dimensions  ... Screen Resolution Number of USB 2.0 Ports  \\\n0  13.33 x 0.7 x 0.2 inches  ...                                             \n1                       NaN  ...                                             \n\n  Average Battery Life (in hours) Department Graphics Card Ram Size  \\\n0                                                                     \n1                                                                     \n\n  Item Dimensions  L x W x H Is Discontinued By Manufacturer Processor Brand  \\\n0                                                                              \n1                                                                              \n\n  Processor Count Manufacturer  \n0                               \n1                               \n\n[2 rows x 50 columns]",
      "text/html": "<div>\n<style scoped>\n    .dataframe tbody tr th:only-of-type {\n        vertical-align: middle;\n    }\n\n    .dataframe tbody tr th {\n        vertical-align: top;\n    }\n\n    .dataframe thead th {\n        text-align: right;\n    }\n</style>\n<table border=\"1\" class=\"dataframe\">\n  <thead>\n    <tr style=\"text-align: right;\">\n      <th></th>\n      <th>name</th>\n      <th>seller</th>\n      <th>seller_link</th>\n      <th>freq_bought</th>\n      <th>freq_bought_link</th>\n      <th>link_to_all_reviews</th>\n      <th>Manufacturer</th>\n      <th>Best Sellers Rank</th>\n      <th>ASIN</th>\n      <th>Product Dimensions</th>\n      <th>...</th>\n      <th>Screen Resolution</th>\n      <th>Number of USB 2.0 Ports</th>\n      <th>Average Battery Life (in hours)</th>\n      <th>Department</th>\n      <th>Graphics Card Ram Size</th>\n      <th>Item Dimensions  L x W x H</th>\n      <th>Is Discontinued By Manufacturer</th>\n      <th>Processor Brand</th>\n      <th>Processor Count</th>\n      <th>Manufacturer</th>\n    </tr>\n  </thead>\n  <tbody>\n    <tr>\n      <td>0</td>\n      <td>EVanlak DispalyPort Headless Ghost Display Emu...</td>\n      <td>EVanlak stroe</td>\n      <td>https://www.amazon.com/gp/help/seller/at-a-gla...</td>\n      <td>None</td>\n      <td>None</td>\n      <td>/EVanlak-DispalyPort-Headless-Emulator-3840x21...</td>\n      <td>EVanlak</td>\n      <td>#850 in Computer Graphics Cards</td>\n      <td>B07YLQZXKY</td>\n      <td>13.33 x 0.7 x 0.2 inches</td>\n      <td>...</td>\n      <td></td>\n      <td></td>\n      <td></td>\n      <td></td>\n      <td></td>\n      <td></td>\n      <td></td>\n      <td></td>\n      <td></td>\n      <td></td>\n    </tr>\n    <tr>\n      <td>1</td>\n      <td>EKWB EK-Quantum Magnitude CPU Water Block, AMD...</td>\n      <td>TITAN RIG</td>\n      <td>https://www.amazon.com/gp/help/seller/at-a-gla...</td>\n      <td>None</td>\n      <td>None</td>\n      <td>/EKWB-EK-Quantum-Magnitude-Water-Nickel/produc...</td>\n      <td>EKWB</td>\n      <td>#3,135 in Water Cooling Systems</td>\n      <td>B085NBFXFT</td>\n      <td>NaN</td>\n      <td>...</td>\n      <td></td>\n      <td></td>\n      <td></td>\n      <td></td>\n      <td></td>\n      <td></td>\n      <td></td>\n      <td></td>\n      <td></td>\n      <td></td>\n    </tr>\n  </tbody>\n</table>\n<p>2 rows × 50 columns</p>\n</div>"
     },
     "metadata": {},
     "execution_count": 124
    }
   ],
   "source": [
    "final.head(2)"
   ]
  },
  {
   "cell_type": "code",
   "execution_count": 125,
   "metadata": {},
   "outputs": [
    {
     "output_type": "execute_result",
     "data": {
      "text/plain": "   Manufacturer Manufacturer\n0       EVanlak             \n1          EKWB             \n2           NaN          AMD\n3           NaN          NaN\n4           NaN          AMD\n..          ...          ...\n95          NaN          NaN\n96          NaN          NaN\n97          NaN          NaN\n98          NaN          NaN\n99      EVanlak             \n\n[100 rows x 2 columns]",
      "text/html": "<div>\n<style scoped>\n    .dataframe tbody tr th:only-of-type {\n        vertical-align: middle;\n    }\n\n    .dataframe tbody tr th {\n        vertical-align: top;\n    }\n\n    .dataframe thead th {\n        text-align: right;\n    }\n</style>\n<table border=\"1\" class=\"dataframe\">\n  <thead>\n    <tr style=\"text-align: right;\">\n      <th></th>\n      <th>Manufacturer</th>\n      <th>Manufacturer</th>\n    </tr>\n  </thead>\n  <tbody>\n    <tr>\n      <td>0</td>\n      <td>EVanlak</td>\n      <td></td>\n    </tr>\n    <tr>\n      <td>1</td>\n      <td>EKWB</td>\n      <td></td>\n    </tr>\n    <tr>\n      <td>2</td>\n      <td>NaN</td>\n      <td>AMD</td>\n    </tr>\n    <tr>\n      <td>3</td>\n      <td>NaN</td>\n      <td>NaN</td>\n    </tr>\n    <tr>\n      <td>4</td>\n      <td>NaN</td>\n      <td>AMD</td>\n    </tr>\n    <tr>\n      <td>...</td>\n      <td>...</td>\n      <td>...</td>\n    </tr>\n    <tr>\n      <td>95</td>\n      <td>NaN</td>\n      <td>NaN</td>\n    </tr>\n    <tr>\n      <td>96</td>\n      <td>NaN</td>\n      <td>NaN</td>\n    </tr>\n    <tr>\n      <td>97</td>\n      <td>NaN</td>\n      <td>NaN</td>\n    </tr>\n    <tr>\n      <td>98</td>\n      <td>NaN</td>\n      <td>NaN</td>\n    </tr>\n    <tr>\n      <td>99</td>\n      <td>EVanlak</td>\n      <td></td>\n    </tr>\n  </tbody>\n</table>\n<p>100 rows × 2 columns</p>\n</div>"
     },
     "metadata": {},
     "execution_count": 125
    }
   ],
   "source": [
    "final.Manufacturer"
   ]
  },
  {
   "cell_type": "code",
   "execution_count": null,
   "metadata": {},
   "outputs": [],
   "source": [
    "# Think how you can deal with Manufacturer now"
   ]
  },
  {
   "cell_type": "code",
   "execution_count": 104,
   "metadata": {},
   "outputs": [
    {
     "output_type": "execute_result",
     "data": {
      "text/plain": "Index(['name', 'seller', 'seller_link', 'freq_bought', 'freq_bought_link',\n       'link_to_all_reviews', 'Manufacturer', 'Best Sellers Rank', 'ASIN',\n       'Product Dimensions', 'Package Dimensions', 'Item Weight',\n       'Date First Available', 'Is Discontinued By Manufacturer',\n       'Customer Reviews', 'Item model number', 'Batteries',\n       'Card Description', 'Voltage', 'Series', 'National Stock Number',\n       'Chipset Brand', 'Package Dimensions', 'Date First Available',\n       'Batteries Required?', 'Wireless Type', 'Standing screen display size',\n       'Max Screen Resolution', 'Part Number', 'Item Package Quantity',\n       'Color', 'Brand', 'Number of USB 3.0 Ports', 'Memory Speed',\n       'Graphics Coprocessor', 'Batteries Included?', 'Computer Memory Type',\n       'Item Weight', 'Product Dimensions', 'Item model number',\n       'Screen Resolution', 'Number of USB 2.0 Ports',\n       'Average Battery Life (in hours)', 'Department',\n       'Graphics Card Ram Size', 'Item Dimensions  L x W x H',\n       'Is Discontinued By Manufacturer', 'Processor Brand', 'Processor Count',\n       'Manufacturer'],\n      dtype='object')"
     },
     "metadata": {},
     "execution_count": 104
    }
   ],
   "source": [
    "final.columns"
   ]
  },
  {
   "cell_type": "code",
   "execution_count": 105,
   "metadata": {},
   "outputs": [
    {
     "output_type": "execute_result",
     "data": {
      "text/plain": "Index(['title', 'url', 'rating', 'review_count', 'price'], dtype='object')"
     },
     "metadata": {},
     "execution_count": 105
    }
   ],
   "source": [
    "s.columns"
   ]
  },
  {
   "cell_type": "code",
   "execution_count": null,
   "metadata": {},
   "outputs": [],
   "source": [
    "# Modify the 'url' value to include 'ASIN' standard URL\n",
    "# s should have only ASIN, rating, review_count, price(USD)\n",
    "# decide how you want to deal with final dataframe\n"
   ]
  }
 ]
}